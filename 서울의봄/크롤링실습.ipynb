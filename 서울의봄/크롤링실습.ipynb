{
 "cells": [
  {
   "cell_type": "code",
   "execution_count": 42,
   "id": "2310bae8-d245-46f7-afd5-29ea41ff8ffe",
   "metadata": {},
   "outputs": [],
   "source": [
    "from selenium import webdriver\n",
    "from selenium.webdriver.common.by import By\n",
    "# driver = webdriver.Chrome('./chromedriver.exe') #115 버전이하\n",
    "\n",
    "driver = webdriver.Chrome() #116 버전이상\n"
   ]
  },
  {
   "cell_type": "code",
   "execution_count": null,
   "id": "456b00d4-2dd2-4bab-96ec-f0fb3ca87d13",
   "metadata": {},
   "outputs": [],
   "source": []
  },
  {
   "cell_type": "code",
   "execution_count": 43,
   "id": "b542ceb8-b3fe-4ac1-8a20-7ae24033a281",
   "metadata": {},
   "outputs": [],
   "source": [
    "url = 'https://search.shopping.naver.com/catalog/31607401618?query=%ED%97%AC%EC%8A%A4%EC%BC%80%EC%96%B4&NaPm=ct%3Dlqxh2rig%7Cci%3Da57d6b4bfec134cae7a84dcdebd03955106fa6a5%7Ctr%3Dslsl%7Csn%3D95694%7Chk%3Dc648c1733bfa142179db036421f728fd504755e4'\n",
    "driver.get(url)"
   ]
  },
  {
   "cell_type": "code",
   "execution_count": 44,
   "id": "4bae76e5-51cd-4913-add2-c044f07ab43e",
   "metadata": {},
   "outputs": [],
   "source": [
    "# from selenium.webdriver.common.by import By\n",
    "\n",
    "# ## XPATH로 가져오기 XPATH는 겹치는거 하나도 없음\n",
    "\n",
    "# xp = '//*[@id=\"section_review\"]/ul'\n",
    "# rb = driver.find_element(By.XPATH, xp)\n",
    "# rb.click()"
   ]
  },
  {
   "cell_type": "code",
   "execution_count": 45,
   "id": "dfeb949b-0672-40f1-8f0f-a3eb67a29cf7",
   "metadata": {},
   "outputs": [],
   "source": [
    "xp = '//*[@id=\"section_review\"]/ul/li'\n",
    "reviews = driver.find_elements(By.XPATH, xp)"
   ]
  },
  {
   "cell_type": "code",
   "execution_count": null,
   "id": "5ee1af07-6362-491a-86c6-df6436e7a6fa",
   "metadata": {},
   "outputs": [],
   "source": []
  },
  {
   "cell_type": "code",
   "execution_count": null,
   "id": "c648e05e-ce47-4bd4-a770-fa5474058f1b",
   "metadata": {},
   "outputs": [],
   "source": []
  },
  {
   "cell_type": "code",
   "execution_count": 46,
   "id": "743c817a-497a-4f22-8015-cde1e9337723",
   "metadata": {},
   "outputs": [],
   "source": [
    "# from time import sleep\n",
    "# # 페이징 넘기기\n",
    "# last = False\n",
    "# while not last:  # for i in range(10)\n",
    "#     pag = driver.find_elements(By.XPATH, '//*[@id=\"section_review\"]/div[3]/a')\n",
    "#     s = len(pag) - 10\n",
    "#     e = len(pag)\n",
    "#     if pag[e-1].get_attribute('innerText') != '다음':\n",
    "#         last = True # 삭제\n",
    "#         s = 2\n",
    "#         print('마지막 페이지')\n",
    "        \n",
    "#     for i in range(s,e):\n",
    "#         pag_bnt = pag[i]\n",
    "#         print(pag_bnt.get_attribute('innerText'))\n",
    "#         pag_bnt.click()\n",
    "#         sleep(2)\n",
    "        \n",
    "#       #  코드 작성\n",
    "        "
   ]
  },
  {
   "cell_type": "code",
   "execution_count": 47,
   "id": "88aa34d5-e2a3-46ea-b75d-04b9274964c3",
   "metadata": {},
   "outputs": [],
   "source": [
    "# datas = []\n",
    "# last = False\n",
    "# while not last:\n",
    "#     pag = driver.find_elements(By.XPATH, '//*[@id=\"section_review\"]/div[3]/a')\n",
    "#     s = len(pag) - 10\n",
    "#     e = len(pag)\n",
    "#     if pag[e-1].get_attribute('innerText') != '다음':\n",
    "#         last = True\n",
    "#         s = 2\n",
    "#         print('마지막 페이지')\n",
    "        \n",
    "        \n",
    "#     for i in range(s,e):\n",
    "#         pag_bnt = pag[i]\n",
    "#         print(pag_bnt.get_attribute('innerText'))\n",
    "#         pag_bnt.click()\n",
    "#         sleep(random.randint(1, 2))\n",
    "#         datas.extend(get_content())\n",
    "# datas      "
   ]
  },
  {
   "cell_type": "code",
   "execution_count": 48,
   "id": "59b0af18-d715-4f7a-b2f7-9347da328514",
   "metadata": {},
   "outputs": [],
   "source": [
    "# from time import sleep\n",
    "# # 페이징 넘기기\n",
    "# text_ = []\n",
    "\n",
    "# last = False\n",
    "# for i in range(3):  # for i in range(10)\n",
    "#     pag = driver.find_elements(By.XPATH, '//*[@id=\"section_review\"]/div[3]/a')\n",
    "#     s = len(pag) - 10\n",
    "#     e = len(pag)\n",
    "#     if pag[e-1].get_attribute('innerText') != '다음':\n",
    "#          # 삭제\n",
    "#         s = 2\n",
    "#         print('마지막 페이지')\n",
    "        \n",
    "#     for i in range(s,e):\n",
    "#         pag_bnt = pag[i]\n",
    "#         print(pag_bnt.get_attribute('innerText'))\n",
    "#         pag_bnt.click()\n",
    "        \n",
    "#         xp = '//*[@id=\"section_review\"]/ul/li'\n",
    "#         reviews = driver.find_elements(By.XPATH, xp)\n",
    "#         for review in reviews:\n",
    "#             text = review.find_element(By.CSS_SELECTOR, 'div.reviewItems_review__DqLYb').get_attribute('innerText')\n",
    "#             text_.append(text)\n",
    "#         sleep(2)\n",
    "        \n",
    "#         # 코드 작성\n",
    "        "
   ]
  },
  {
   "cell_type": "code",
   "execution_count": 49,
   "id": "5535369d-2e97-4cb1-9a0d-9182e9c3a156",
   "metadata": {},
   "outputs": [],
   "source": [
    "## XPATH\n",
    "\n",
    "xp = '//*[@id=\"section_review\"]/ul/li'\n",
    "reviews = driver.find_elements(By.XPATH, xp)"
   ]
  },
  {
   "cell_type": "code",
   "execution_count": 50,
   "id": "1b10686c-b5cc-4b06-9d92-7fdcec931af6",
   "metadata": {},
   "outputs": [],
   "source": [
    "# text1 = review.find_element(By.CSS_SELECTOR, 'span.reviewItems_average__0kLWX').get_attribute('innerText')\n",
    "# text_sp = text1.split(\"점\")\n",
    "# text_sp[1]"
   ]
  },
  {
   "cell_type": "code",
   "execution_count": 51,
   "id": "efae1a6d-984a-4b66-96d9-b48ee8a7f641",
   "metadata": {},
   "outputs": [
    {
     "data": {
      "text/plain": [
       "<selenium.webdriver.remote.webelement.WebElement (session=\"4af9d290cbd5457901d25f06920f5cc4\", element=\"4965F518556B184E18E8FF2AB770E39C_element_48\")>"
      ]
     },
     "execution_count": 51,
     "metadata": {},
     "output_type": "execute_result"
    }
   ],
   "source": [
    "## data-review-id 테그의 데이터 추출\n",
    "reviews[0].find_element(By.CSS_SELECTOR, 'div.reviewItems_review__DqLYb').get_attribute('InnerText')\n",
    "reviews[0]"
   ]
  },
  {
   "cell_type": "code",
   "execution_count": 52,
   "id": "0499997a-c7bf-4f49-82d8-b46513d002c7",
   "metadata": {},
   "outputs": [
    {
     "data": {
      "text/plain": [
       "['평점5',\n",
       " '평점5',\n",
       " '평점5',\n",
       " '평점5',\n",
       " '평점5',\n",
       " '평점5',\n",
       " '평점5',\n",
       " '평점5',\n",
       " '평점5',\n",
       " '평점5',\n",
       " '평점5',\n",
       " '평점5',\n",
       " '평점5',\n",
       " '평점4',\n",
       " '평점5',\n",
       " '평점5',\n",
       " '평점5',\n",
       " '평점5',\n",
       " '평점5',\n",
       " '평점5']"
      ]
     },
     "execution_count": 52,
     "metadata": {},
     "output_type": "execute_result"
    }
   ],
   "source": [
    "# <테그> 텍스트 </> 데이터 추출\n",
    "texts1 = []\n",
    "for review in reviews:\n",
    "    text = review.find_element(By.CSS_SELECTOR, 'span.reviewItems_average__0kLWX').get_attribute('innerText')\n",
    "    texts1.append(text)\n",
    "texts1"
   ]
  },
  {
   "cell_type": "code",
   "execution_count": null,
   "id": "7c0bfa9a-e538-48ec-b7d9-34c4325c5515",
   "metadata": {},
   "outputs": [],
   "source": []
  },
  {
   "cell_type": "markdown",
   "id": "ab966d95-d34e-4611-b887-ab1a1c6f0e22",
   "metadata": {},
   "source": [
    "\"span.reviewItems_etc__9ej69\" 여기가 주소가 겹치는 바람에\n",
    "_element() ->  _elements() 이렇게 바꾸고,\n",
    "_elements('span.reviewItems_etc__9ej69')[1] 이렇게 리스트형으로 가져와주면 된다\n"
   ]
  },
  {
   "cell_type": "code",
   "execution_count": 54,
   "id": "0a6071a3-7eec-4ae6-8f0e-d89fd9f47f42",
   "metadata": {},
   "outputs": [
    {
     "data": {
      "text/plain": [
       "['myeu****',\n",
       " 'pnk2****',\n",
       " '39fo****',\n",
       " 'choh****',\n",
       " 'choh****',\n",
       " 'sunm****',\n",
       " 'wowo****',\n",
       " 'vmk6****',\n",
       " '39fo****',\n",
       " 'mari****',\n",
       " 'jsad****',\n",
       " 'mari****',\n",
       " 'yha0****',\n",
       " 'alpp****',\n",
       " 'dmsc****',\n",
       " 'kbs0****',\n",
       " 'ku_l****',\n",
       " 'pfsu****',\n",
       " 'hams****',\n",
       " 'pnk2****']"
      ]
     },
     "execution_count": 54,
     "metadata": {},
     "output_type": "execute_result"
    }
   ],
   "source": [
    "\n",
    "texts2 = []\n",
    "for review in reviews:\n",
    "    text = review.find_elements(By.CSS_SELECTOR, 'span.reviewItems_etc__9ej69')[1].get_attribute('innerText')\n",
    "    texts2.append(text)\n",
    "texts2"
   ]
  },
  {
   "cell_type": "code",
   "execution_count": 55,
   "id": "d25fa098-4873-413f-9a35-9ac03a05b319",
   "metadata": {},
   "outputs": [
    {
     "data": {
      "text/plain": [
       "['22.03.21.',\n",
       " '22.11.13.',\n",
       " '22.05.27.',\n",
       " '23.06.11.',\n",
       " '23.07.09.',\n",
       " '22.09.07.',\n",
       " '22.08.19.',\n",
       " '22.06.25.',\n",
       " '22.08.14.',\n",
       " '22.12.29.',\n",
       " '23.05.05.',\n",
       " '22.07.19.',\n",
       " '22.10.31.',\n",
       " '23.11.24.',\n",
       " '23.05.18.',\n",
       " '23.08.02.',\n",
       " '23.05.20.',\n",
       " '23.04.12.',\n",
       " '23.08.03.',\n",
       " '22.07.12.']"
      ]
     },
     "execution_count": 55,
     "metadata": {},
     "output_type": "execute_result"
    }
   ],
   "source": [
    "\n",
    "texts3 = []\n",
    "for review in reviews:\n",
    "    text = review.find_elements(By.CSS_SELECTOR, 'span.reviewItems_etc__9ej69')[2].get_attribute('innerText')\n",
    "    texts3.append(text)\n",
    "texts3"
   ]
  },
  {
   "cell_type": "code",
   "execution_count": 57,
   "id": "03e73a94-2f4b-4901-a011-1769545b8942",
   "metadata": {
    "scrolled": true
   },
   "outputs": [],
   "source": [
    "# <테그> 텍스트 </> 데이터 추출\n",
    "texts4 = []\n",
    "for review in reviews:\n",
    "    text = review.find_element(By.CSS_SELECTOR, 'div.reviewItems_review__DqLYb').get_attribute('innerText')\n",
    "    texts4.append(text)\n",
    "#texts4"
   ]
  },
  {
   "cell_type": "code",
   "execution_count": 59,
   "id": "d6e179ca-af5b-4520-9bcc-14ae13df9993",
   "metadata": {},
   "outputs": [
    {
     "data": {
      "text/plain": [
       "'5'"
      ]
     },
     "execution_count": 59,
     "metadata": {},
     "output_type": "execute_result"
    }
   ],
   "source": [
    "text1 = review.find_element(By.CSS_SELECTOR, 'span.reviewItems_average__0kLWX').get_attribute('innerText')\n",
    "text_sp = text1.split(\"점\")\n",
    "text_sp[1]"
   ]
  },
  {
   "cell_type": "code",
   "execution_count": 60,
   "id": "a43fcf1e-7d1e-45fe-9168-fde36cc976ee",
   "metadata": {},
   "outputs": [],
   "source": [
    "def get_content(review):\n",
    "    condic = {}\n",
    "    condic['date'] = review.find_elements(By.CSS_SELECTOR, 'span.reviewItems_etc__9ej69')[2].get_attribute('innerText').strip()\n",
    "    condic['id'] = review.find_elements(By.CSS_SELECTOR, 'span.reviewItems_etc__9ej69')[1].get_attribute('innerText').strip()\n",
    "    condic['rat'] = text_sp[1]\n",
    "    condic['text'] = review.find_element(By.CSS_SELECTOR, 'div.reviewItems_review__DqLYb').get_attribute('innerText').strip()\n",
    "    return condic"
   ]
  },
  {
   "cell_type": "code",
   "execution_count": 15,
   "id": "0c85414a-a7d2-46d6-be2a-15358186d9a6",
   "metadata": {},
   "outputs": [
    {
     "data": {
      "text/html": [
       "<div>\n",
       "<style scoped>\n",
       "    .dataframe tbody tr th:only-of-type {\n",
       "        vertical-align: middle;\n",
       "    }\n",
       "\n",
       "    .dataframe tbody tr th {\n",
       "        vertical-align: top;\n",
       "    }\n",
       "\n",
       "    .dataframe thead th {\n",
       "        text-align: right;\n",
       "    }\n",
       "</style>\n",
       "<table border=\"1\" class=\"dataframe\">\n",
       "  <thead>\n",
       "    <tr style=\"text-align: right;\">\n",
       "      <th></th>\n",
       "      <th>date</th>\n",
       "      <th>id</th>\n",
       "      <th>rat</th>\n",
       "      <th>text</th>\n",
       "    </tr>\n",
       "  </thead>\n",
       "  <tbody>\n",
       "    <tr>\n",
       "      <th>0</th>\n",
       "      <td>22.09.14.</td>\n",
       "      <td>sung****</td>\n",
       "      <td>5</td>\n",
       "      <td>빠르게 배송해주셔서 감사합니다. 다른 제품의 이노시톨을 먹다가 리뷰보고 구매해봅니다...</td>\n",
       "    </tr>\n",
       "    <tr>\n",
       "      <th>1</th>\n",
       "      <td>22.03.29.</td>\n",
       "      <td>mine****</td>\n",
       "      <td>5</td>\n",
       "      <td>간편하게 먹을수 있어서 좋네요 여러가지 성분들이 있어서 좋은거같아요\\n\\n간편하게 ...</td>\n",
       "    </tr>\n",
       "    <tr>\n",
       "      <th>2</th>\n",
       "      <td>23.08.16.</td>\n",
       "      <td>rlaw****</td>\n",
       "      <td>5</td>\n",
       "      <td>여기꺼 이노시톨은 진짜 먹기 편하네요!맛도 괜찮슺니당 그리규 물에 풀어서 먹는데 잘...</td>\n",
       "    </tr>\n",
       "    <tr>\n",
       "      <th>3</th>\n",
       "      <td>22.05.25.</td>\n",
       "      <td>rabb****</td>\n",
       "      <td>5</td>\n",
       "      <td>우연히 찾은 뉴트원 이노시톨 제품을 정말 만족하면서 먹고 있고, 프리미엄이라는 말처...</td>\n",
       "    </tr>\n",
       "    <tr>\n",
       "      <th>4</th>\n",
       "      <td>22.05.25.</td>\n",
       "      <td>back****</td>\n",
       "      <td>5</td>\n",
       "      <td>몸에 좋은 영양제를 찾다가 우연히 구매하게 되었는데 정말 만족합니다. 프리미엄 글자...</td>\n",
       "    </tr>\n",
       "    <tr>\n",
       "      <th>5</th>\n",
       "      <td>22.07.09.</td>\n",
       "      <td>nana****</td>\n",
       "      <td>5</td>\n",
       "      <td>이노시톨 챙겨먹어야 한다고 해서 여러 제품들 검색해보고 이 제품이 리뷰가 좋아서 고...</td>\n",
       "    </tr>\n",
       "    <tr>\n",
       "      <th>6</th>\n",
       "      <td>22.09.21.</td>\n",
       "      <td>hkyo****</td>\n",
       "      <td>5</td>\n",
       "      <td>갱년기 접어들면서 정확했던 생리주기가 들쑥날쑥해지길래 도움이 될까싶어 먹어봤는데 새...</td>\n",
       "    </tr>\n",
       "    <tr>\n",
       "      <th>7</th>\n",
       "      <td>22.03.25.</td>\n",
       "      <td>adbo****</td>\n",
       "      <td>5</td>\n",
       "      <td>스틱형이라 들고다니면서 먹기 편해요! 맛도 생각보다 괜찮아요 ㅎㅎ 유통기한도 넉넉하...</td>\n",
       "    </tr>\n",
       "    <tr>\n",
       "      <th>8</th>\n",
       "      <td>23.02.22.</td>\n",
       "      <td>hj87****</td>\n",
       "      <td>5</td>\n",
       "      <td>난임검사중에 이노시톨 추천받아서 꼬박꼬박 먹고있어요! 생리주기 잘맞춰져서 이쁜 아가...</td>\n",
       "    </tr>\n",
       "    <tr>\n",
       "      <th>9</th>\n",
       "      <td>23.09.15.</td>\n",
       "      <td>mylo****</td>\n",
       "      <td>5</td>\n",
       "      <td>친구추천으로 이용하게되었는데 배송도빠르고 먹기도편해서 좋아요~ 지금 생리불규칙에 임...</td>\n",
       "    </tr>\n",
       "    <tr>\n",
       "      <th>10</th>\n",
       "      <td>23.07.02.</td>\n",
       "      <td>rist****</td>\n",
       "      <td>5</td>\n",
       "      <td>생리주기 맞추는데 도움이 되길 바랍니당. 장기복용해보고 후기남겨보려구요.! 한번에 ...</td>\n",
       "    </tr>\n",
       "    <tr>\n",
       "      <th>11</th>\n",
       "      <td>22.03.21.</td>\n",
       "      <td>dmsg****</td>\n",
       "      <td>5</td>\n",
       "      <td>복용해본 후 괜찮은 것 같아 지인에게 선물하려고 추가 구매했습니다^^ 섭취하는데 불...</td>\n",
       "    </tr>\n",
       "    <tr>\n",
       "      <th>12</th>\n",
       "      <td>22.05.25.</td>\n",
       "      <td>back****</td>\n",
       "      <td>5</td>\n",
       "      <td>여성 고품질 영양제를 찾다가 알게 된 제품인데 정말 마음에 듭니다. 한달 먹어보니 ...</td>\n",
       "    </tr>\n",
       "    <tr>\n",
       "      <th>13</th>\n",
       "      <td>22.04.01.</td>\n",
       "      <td>nobl****</td>\n",
       "      <td>5</td>\n",
       "      <td>행사할때 샀는데 너무 좋았고제품은 많이 팔리는 이유가 있죠잘녹고 잘먹고 이상반응 없...</td>\n",
       "    </tr>\n",
       "    <tr>\n",
       "      <th>14</th>\n",
       "      <td>22.05.25.</td>\n",
       "      <td>rabb****</td>\n",
       "      <td>5</td>\n",
       "      <td>하루에 두포씩 매일먹고 있어요. 맛은 레몬맛이라 부담없고 물이랑 먹으면 큰 부담없이...</td>\n",
       "    </tr>\n",
       "    <tr>\n",
       "      <th>15</th>\n",
       "      <td>23.06.06.</td>\n",
       "      <td>dgh0****</td>\n",
       "      <td>5</td>\n",
       "      <td>좋아요 여자 영양제로 추천받아서 먹어봤는데 괜찮은거같아요 다낭성난소증후군에 도움될까...</td>\n",
       "    </tr>\n",
       "    <tr>\n",
       "      <th>16</th>\n",
       "      <td>22.04.28.</td>\n",
       "      <td>dmsg****</td>\n",
       "      <td>5</td>\n",
       "      <td>제가 먼저 구매를 해 복용한후 마음에 들어서 주변에 선물도 했어요ㅎㅎ 제품도 너무 ...</td>\n",
       "    </tr>\n",
       "    <tr>\n",
       "      <th>17</th>\n",
       "      <td>23.01.15.</td>\n",
       "      <td>minj****</td>\n",
       "      <td>5</td>\n",
       "      <td>맛이 새콤하기도 하고 먹기좋아요배송이 빨라서 좋았어요또 구매할게요 많이파세요~~~\\...</td>\n",
       "    </tr>\n",
       "    <tr>\n",
       "      <th>18</th>\n",
       "      <td>23.02.01.</td>\n",
       "      <td>aqua****</td>\n",
       "      <td>5</td>\n",
       "      <td>이노시톨 뿐만 아니라 엽산,비타민도 들어있어서 더 좋아요^^ 색상도 핑쿠핑쿠해서 예...</td>\n",
       "    </tr>\n",
       "    <tr>\n",
       "      <th>19</th>\n",
       "      <td>22.08.10.</td>\n",
       "      <td>flor****</td>\n",
       "      <td>5</td>\n",
       "      <td>이노시톨 처음 주문해봤는데 생각보다 레몬맛이라 상큼하고 먹기 좋아요.\\n\\n이노시톨...</td>\n",
       "    </tr>\n",
       "  </tbody>\n",
       "</table>\n",
       "</div>"
      ],
      "text/plain": [
       "         date        id rat                                               text\n",
       "0   22.09.14.  sung****   5  빠르게 배송해주셔서 감사합니다. 다른 제품의 이노시톨을 먹다가 리뷰보고 구매해봅니다...\n",
       "1   22.03.29.  mine****   5  간편하게 먹을수 있어서 좋네요 여러가지 성분들이 있어서 좋은거같아요\\n\\n간편하게 ...\n",
       "2   23.08.16.  rlaw****   5  여기꺼 이노시톨은 진짜 먹기 편하네요!맛도 괜찮슺니당 그리규 물에 풀어서 먹는데 잘...\n",
       "3   22.05.25.  rabb****   5  우연히 찾은 뉴트원 이노시톨 제품을 정말 만족하면서 먹고 있고, 프리미엄이라는 말처...\n",
       "4   22.05.25.  back****   5  몸에 좋은 영양제를 찾다가 우연히 구매하게 되었는데 정말 만족합니다. 프리미엄 글자...\n",
       "5   22.07.09.  nana****   5  이노시톨 챙겨먹어야 한다고 해서 여러 제품들 검색해보고 이 제품이 리뷰가 좋아서 고...\n",
       "6   22.09.21.  hkyo****   5  갱년기 접어들면서 정확했던 생리주기가 들쑥날쑥해지길래 도움이 될까싶어 먹어봤는데 새...\n",
       "7   22.03.25.  adbo****   5  스틱형이라 들고다니면서 먹기 편해요! 맛도 생각보다 괜찮아요 ㅎㅎ 유통기한도 넉넉하...\n",
       "8   23.02.22.  hj87****   5  난임검사중에 이노시톨 추천받아서 꼬박꼬박 먹고있어요! 생리주기 잘맞춰져서 이쁜 아가...\n",
       "9   23.09.15.  mylo****   5  친구추천으로 이용하게되었는데 배송도빠르고 먹기도편해서 좋아요~ 지금 생리불규칙에 임...\n",
       "10  23.07.02.  rist****   5  생리주기 맞추는데 도움이 되길 바랍니당. 장기복용해보고 후기남겨보려구요.! 한번에 ...\n",
       "11  22.03.21.  dmsg****   5  복용해본 후 괜찮은 것 같아 지인에게 선물하려고 추가 구매했습니다^^ 섭취하는데 불...\n",
       "12  22.05.25.  back****   5  여성 고품질 영양제를 찾다가 알게 된 제품인데 정말 마음에 듭니다. 한달 먹어보니 ...\n",
       "13  22.04.01.  nobl****   5  행사할때 샀는데 너무 좋았고제품은 많이 팔리는 이유가 있죠잘녹고 잘먹고 이상반응 없...\n",
       "14  22.05.25.  rabb****   5  하루에 두포씩 매일먹고 있어요. 맛은 레몬맛이라 부담없고 물이랑 먹으면 큰 부담없이...\n",
       "15  23.06.06.  dgh0****   5  좋아요 여자 영양제로 추천받아서 먹어봤는데 괜찮은거같아요 다낭성난소증후군에 도움될까...\n",
       "16  22.04.28.  dmsg****   5  제가 먼저 구매를 해 복용한후 마음에 들어서 주변에 선물도 했어요ㅎㅎ 제품도 너무 ...\n",
       "17  23.01.15.  minj****   5  맛이 새콤하기도 하고 먹기좋아요배송이 빨라서 좋았어요또 구매할게요 많이파세요~~~\\...\n",
       "18  23.02.01.  aqua****   5  이노시톨 뿐만 아니라 엽산,비타민도 들어있어서 더 좋아요^^ 색상도 핑쿠핑쿠해서 예...\n",
       "19  22.08.10.  flor****   5  이노시톨 처음 주문해봤는데 생각보다 레몬맛이라 상큼하고 먹기 좋아요.\\n\\n이노시톨..."
      ]
     },
     "execution_count": 15,
     "metadata": {},
     "output_type": "execute_result"
    }
   ],
   "source": [
    "# import pandas as pd\n",
    "# result = []\n",
    "\n",
    "# for content in reviews:\n",
    "#     try:\n",
    "#         result.append(get_content(content))\n",
    "#     except:\n",
    "#         print('error')\n",
    "#         pass\n",
    "    \n",
    "# df = pd.DataFrame(result)\n",
    "# df"
   ]
  },
  {
   "cell_type": "code",
   "execution_count": 61,
   "id": "008cf63d-c2f4-457d-9fc0-1bc999f3ba30",
   "metadata": {},
   "outputs": [
    {
     "name": "stdout",
     "output_type": "stream",
     "text": [
      "2\n"
     ]
    },
    {
     "ename": "StaleElementReferenceException",
     "evalue": "Message: stale element reference: stale element not found\n  (Session info: chrome=120.0.6099.199); For documentation on this error, please visit: https://www.selenium.dev/documentation/webdriver/troubleshooting/errors#stale-element-reference-exception\nStacktrace:\n\tGetHandleVerifier [0x00007FF7BD2C2142+3514994]\n\t(No symbol) [0x00007FF7BCEE0CE2]\n\t(No symbol) [0x00007FF7BCD876AA]\n\t(No symbol) [0x00007FF7BCD8CFC0]\n\t(No symbol) [0x00007FF7BCD8F6F7]\n\t(No symbol) [0x00007FF7BCE1316B]\n\t(No symbol) [0x00007FF7BCDF5FEA]\n\t(No symbol) [0x00007FF7BCE128F6]\n\t(No symbol) [0x00007FF7BCDF5D93]\n\t(No symbol) [0x00007FF7BCDC4BDC]\n\t(No symbol) [0x00007FF7BCDC5C64]\n\tGetHandleVerifier [0x00007FF7BD2EE16B+3695259]\n\tGetHandleVerifier [0x00007FF7BD346737+4057191]\n\tGetHandleVerifier [0x00007FF7BD33E4E3+4023827]\n\tGetHandleVerifier [0x00007FF7BD0104F9+689705]\n\t(No symbol) [0x00007FF7BCEEC048]\n\t(No symbol) [0x00007FF7BCEE8044]\n\t(No symbol) [0x00007FF7BCEE81C9]\n\t(No symbol) [0x00007FF7BCED88C4]\n\tBaseThreadInitThunk [0x00007FFB27737344+20]\n\tRtlUserThreadStart [0x00007FFB287A26B1+33]\n",
     "output_type": "error",
     "traceback": [
      "\u001b[1;31m---------------------------------------------------------------------------\u001b[0m",
      "\u001b[1;31mStaleElementReferenceException\u001b[0m            Traceback (most recent call last)",
      "Cell \u001b[1;32mIn[61], line 23\u001b[0m\n\u001b[0;32m     21\u001b[0m reviews \u001b[38;5;241m=\u001b[39m driver\u001b[38;5;241m.\u001b[39mfind_elements(By\u001b[38;5;241m.\u001b[39mXPATH, xp)\n\u001b[0;32m     22\u001b[0m \u001b[38;5;28;01mfor\u001b[39;00m review \u001b[38;5;129;01min\u001b[39;00m reviews:\n\u001b[1;32m---> 23\u001b[0m     text \u001b[38;5;241m=\u001b[39m \u001b[43mreview\u001b[49m\u001b[38;5;241;43m.\u001b[39;49m\u001b[43mfind_element\u001b[49m\u001b[43m(\u001b[49m\u001b[43mBy\u001b[49m\u001b[38;5;241;43m.\u001b[39;49m\u001b[43mCSS_SELECTOR\u001b[49m\u001b[43m,\u001b[49m\u001b[43m \u001b[49m\u001b[38;5;124;43m'\u001b[39;49m\u001b[38;5;124;43mdiv.reviewItems_review__DqLYb\u001b[39;49m\u001b[38;5;124;43m'\u001b[39;49m\u001b[43m)\u001b[49m\u001b[38;5;241;43m.\u001b[39;49m\u001b[43mget_attribute\u001b[49m\u001b[43m(\u001b[49m\u001b[38;5;124;43m'\u001b[39;49m\u001b[38;5;124;43minnerText\u001b[39;49m\u001b[38;5;124;43m'\u001b[39;49m\u001b[43m)\u001b[49m\n\u001b[0;32m     24\u001b[0m     text_\u001b[38;5;241m.\u001b[39mappend(text)\n\u001b[0;32m     25\u001b[0m sleep(\u001b[38;5;241m2\u001b[39m)\n",
      "File \u001b[1;32m~\\AppData\\Local\\Programs\\Python\\Python311\\Lib\\site-packages\\selenium\\webdriver\\remote\\webelement.py:178\u001b[0m, in \u001b[0;36mWebElement.get_attribute\u001b[1;34m(self, name)\u001b[0m\n\u001b[0;32m    176\u001b[0m \u001b[38;5;28;01mif\u001b[39;00m getAttribute_js \u001b[38;5;129;01mis\u001b[39;00m \u001b[38;5;28;01mNone\u001b[39;00m:\n\u001b[0;32m    177\u001b[0m     _load_js()\n\u001b[1;32m--> 178\u001b[0m attribute_value \u001b[38;5;241m=\u001b[39m \u001b[38;5;28;43mself\u001b[39;49m\u001b[38;5;241;43m.\u001b[39;49m\u001b[43mparent\u001b[49m\u001b[38;5;241;43m.\u001b[39;49m\u001b[43mexecute_script\u001b[49m\u001b[43m(\u001b[49m\n\u001b[0;32m    179\u001b[0m \u001b[43m    \u001b[49m\u001b[38;5;124;43mf\u001b[39;49m\u001b[38;5;124;43m\"\u001b[39;49m\u001b[38;5;124;43m/* getAttribute */return (\u001b[39;49m\u001b[38;5;132;43;01m{\u001b[39;49;00m\u001b[43mgetAttribute_js\u001b[49m\u001b[38;5;132;43;01m}\u001b[39;49;00m\u001b[38;5;124;43m).apply(null, arguments);\u001b[39;49m\u001b[38;5;124;43m\"\u001b[39;49m\u001b[43m,\u001b[49m\u001b[43m \u001b[49m\u001b[38;5;28;43mself\u001b[39;49m\u001b[43m,\u001b[49m\u001b[43m \u001b[49m\u001b[43mname\u001b[49m\n\u001b[0;32m    180\u001b[0m \u001b[43m\u001b[49m\u001b[43m)\u001b[49m\n\u001b[0;32m    181\u001b[0m \u001b[38;5;28;01mreturn\u001b[39;00m attribute_value\n",
      "File \u001b[1;32m~\\AppData\\Local\\Programs\\Python\\Python311\\Lib\\site-packages\\selenium\\webdriver\\remote\\webdriver.py:408\u001b[0m, in \u001b[0;36mWebDriver.execute_script\u001b[1;34m(self, script, *args)\u001b[0m\n\u001b[0;32m    405\u001b[0m converted_args \u001b[38;5;241m=\u001b[39m \u001b[38;5;28mlist\u001b[39m(args)\n\u001b[0;32m    406\u001b[0m command \u001b[38;5;241m=\u001b[39m Command\u001b[38;5;241m.\u001b[39mW3C_EXECUTE_SCRIPT\n\u001b[1;32m--> 408\u001b[0m \u001b[38;5;28;01mreturn\u001b[39;00m \u001b[38;5;28;43mself\u001b[39;49m\u001b[38;5;241;43m.\u001b[39;49m\u001b[43mexecute\u001b[49m\u001b[43m(\u001b[49m\u001b[43mcommand\u001b[49m\u001b[43m,\u001b[49m\u001b[43m \u001b[49m\u001b[43m{\u001b[49m\u001b[38;5;124;43m\"\u001b[39;49m\u001b[38;5;124;43mscript\u001b[39;49m\u001b[38;5;124;43m\"\u001b[39;49m\u001b[43m:\u001b[49m\u001b[43m \u001b[49m\u001b[43mscript\u001b[49m\u001b[43m,\u001b[49m\u001b[43m \u001b[49m\u001b[38;5;124;43m\"\u001b[39;49m\u001b[38;5;124;43margs\u001b[39;49m\u001b[38;5;124;43m\"\u001b[39;49m\u001b[43m:\u001b[49m\u001b[43m \u001b[49m\u001b[43mconverted_args\u001b[49m\u001b[43m}\u001b[49m\u001b[43m)\u001b[49m[\u001b[38;5;124m\"\u001b[39m\u001b[38;5;124mvalue\u001b[39m\u001b[38;5;124m\"\u001b[39m]\n",
      "File \u001b[1;32m~\\AppData\\Local\\Programs\\Python\\Python311\\Lib\\site-packages\\selenium\\webdriver\\remote\\webdriver.py:348\u001b[0m, in \u001b[0;36mWebDriver.execute\u001b[1;34m(self, driver_command, params)\u001b[0m\n\u001b[0;32m    346\u001b[0m response \u001b[38;5;241m=\u001b[39m \u001b[38;5;28mself\u001b[39m\u001b[38;5;241m.\u001b[39mcommand_executor\u001b[38;5;241m.\u001b[39mexecute(driver_command, params)\n\u001b[0;32m    347\u001b[0m \u001b[38;5;28;01mif\u001b[39;00m response:\n\u001b[1;32m--> 348\u001b[0m     \u001b[38;5;28;43mself\u001b[39;49m\u001b[38;5;241;43m.\u001b[39;49m\u001b[43merror_handler\u001b[49m\u001b[38;5;241;43m.\u001b[39;49m\u001b[43mcheck_response\u001b[49m\u001b[43m(\u001b[49m\u001b[43mresponse\u001b[49m\u001b[43m)\u001b[49m\n\u001b[0;32m    349\u001b[0m     response[\u001b[38;5;124m\"\u001b[39m\u001b[38;5;124mvalue\u001b[39m\u001b[38;5;124m\"\u001b[39m] \u001b[38;5;241m=\u001b[39m \u001b[38;5;28mself\u001b[39m\u001b[38;5;241m.\u001b[39m_unwrap_value(response\u001b[38;5;241m.\u001b[39mget(\u001b[38;5;124m\"\u001b[39m\u001b[38;5;124mvalue\u001b[39m\u001b[38;5;124m\"\u001b[39m, \u001b[38;5;28;01mNone\u001b[39;00m))\n\u001b[0;32m    350\u001b[0m     \u001b[38;5;28;01mreturn\u001b[39;00m response\n",
      "File \u001b[1;32m~\\AppData\\Local\\Programs\\Python\\Python311\\Lib\\site-packages\\selenium\\webdriver\\remote\\errorhandler.py:229\u001b[0m, in \u001b[0;36mErrorHandler.check_response\u001b[1;34m(self, response)\u001b[0m\n\u001b[0;32m    227\u001b[0m         alert_text \u001b[38;5;241m=\u001b[39m value[\u001b[38;5;124m\"\u001b[39m\u001b[38;5;124malert\u001b[39m\u001b[38;5;124m\"\u001b[39m]\u001b[38;5;241m.\u001b[39mget(\u001b[38;5;124m\"\u001b[39m\u001b[38;5;124mtext\u001b[39m\u001b[38;5;124m\"\u001b[39m)\n\u001b[0;32m    228\u001b[0m     \u001b[38;5;28;01mraise\u001b[39;00m exception_class(message, screen, stacktrace, alert_text)  \u001b[38;5;66;03m# type: ignore[call-arg]  # mypy is not smart enough here\u001b[39;00m\n\u001b[1;32m--> 229\u001b[0m \u001b[38;5;28;01mraise\u001b[39;00m exception_class(message, screen, stacktrace)\n",
      "\u001b[1;31mStaleElementReferenceException\u001b[0m: Message: stale element reference: stale element not found\n  (Session info: chrome=120.0.6099.199); For documentation on this error, please visit: https://www.selenium.dev/documentation/webdriver/troubleshooting/errors#stale-element-reference-exception\nStacktrace:\n\tGetHandleVerifier [0x00007FF7BD2C2142+3514994]\n\t(No symbol) [0x00007FF7BCEE0CE2]\n\t(No symbol) [0x00007FF7BCD876AA]\n\t(No symbol) [0x00007FF7BCD8CFC0]\n\t(No symbol) [0x00007FF7BCD8F6F7]\n\t(No symbol) [0x00007FF7BCE1316B]\n\t(No symbol) [0x00007FF7BCDF5FEA]\n\t(No symbol) [0x00007FF7BCE128F6]\n\t(No symbol) [0x00007FF7BCDF5D93]\n\t(No symbol) [0x00007FF7BCDC4BDC]\n\t(No symbol) [0x00007FF7BCDC5C64]\n\tGetHandleVerifier [0x00007FF7BD2EE16B+3695259]\n\tGetHandleVerifier [0x00007FF7BD346737+4057191]\n\tGetHandleVerifier [0x00007FF7BD33E4E3+4023827]\n\tGetHandleVerifier [0x00007FF7BD0104F9+689705]\n\t(No symbol) [0x00007FF7BCEEC048]\n\t(No symbol) [0x00007FF7BCEE8044]\n\t(No symbol) [0x00007FF7BCEE81C9]\n\t(No symbol) [0x00007FF7BCED88C4]\n\tBaseThreadInitThunk [0x00007FFB27737344+20]\n\tRtlUserThreadStart [0x00007FFB287A26B1+33]\n"
     ]
    }
   ],
   "source": [
    "from time import sleep\n",
    "# 페이징 넘기기\n",
    "text_ = []\n",
    "\n",
    "last = False\n",
    "for i in range(3):  # for i in range(10)\n",
    "    pag = driver.find_elements(By.XPATH, '//*[@id=\"section_review\"]/div[3]/a')\n",
    "    s = len(pag) - 10\n",
    "    e = len(pag)\n",
    "    if pag[e-1].get_attribute('innerText') != '다음':\n",
    "         # 삭제\n",
    "        s = 2\n",
    "        print('마지막 페이지')\n",
    "        \n",
    "    for i in range(s,e):\n",
    "        pag_bnt = pag[i]\n",
    "        print(pag_bnt.get_attribute('innerText'))\n",
    "        pag_bnt.click()\n",
    "        \n",
    "        xp = '//*[@id=\"section_review\"]/ul/li'\n",
    "        reviews = driver.find_elements(By.XPATH, xp)\n",
    "        for review in reviews:\n",
    "            text = review.find_element(By.CSS_SELECTOR, 'div.reviewItems_review__DqLYb').get_attribute('innerText')\n",
    "            text_.append(text)\n",
    "        sleep(2)\n",
    "        \n",
    "        # 코드 작성\n",
    "        "
   ]
  },
  {
   "cell_type": "code",
   "execution_count": 16,
   "id": "c16a54a1-547e-43f5-be90-8a487b5f39b3",
   "metadata": {
    "scrolled": true
   },
   "outputs": [
    {
     "ename": "TypeError",
     "evalue": "'Series' object is not callable",
     "output_type": "error",
     "traceback": [
      "\u001b[1;31m---------------------------------------------------------------------------\u001b[0m",
      "\u001b[1;31mTypeError\u001b[0m                                 Traceback (most recent call last)",
      "Cell \u001b[1;32mIn[16], line 1\u001b[0m\n\u001b[1;32m----> 1\u001b[0m \u001b[43mdf\u001b[49m\u001b[38;5;241;43m.\u001b[39;49m\u001b[43mdtypes\u001b[49m\u001b[43m(\u001b[49m\u001b[43m)\u001b[49m\n",
      "\u001b[1;31mTypeError\u001b[0m: 'Series' object is not callable"
     ]
    }
   ],
   "source": [
    "df.dtypes()"
   ]
  },
  {
   "cell_type": "code",
   "execution_count": null,
   "id": "a168ec7a-4e12-45cf-b25b-78d0ac617e19",
   "metadata": {},
   "outputs": [],
   "source": [
    "df.to_csv('./data/nwetone_review.csv', index = False)"
   ]
  },
  {
   "cell_type": "code",
   "execution_count": null,
   "id": "085b279e-b225-4224-a8fb-190af42508d5",
   "metadata": {},
   "outputs": [],
   "source": []
  },
  {
   "cell_type": "code",
   "execution_count": null,
   "id": "8c125828-c0de-4ec0-98ff-06a9c952a347",
   "metadata": {},
   "outputs": [],
   "source": []
  },
  {
   "cell_type": "markdown",
   "id": "06bd70d1-8188-4d03-8f0e-7328018fcf17",
   "metadata": {},
   "source": [
    "## 루프문 손 봐야하는데, 어딜 고쳐줘야할지 모르겠다.."
   ]
  },
  {
   "cell_type": "markdown",
   "id": "970fb227-4941-4d5f-9e0e-d942eefba879",
   "metadata": {},
   "source": []
  }
 ],
 "metadata": {
  "kernelspec": {
   "display_name": "Python 3 (ipykernel)",
   "language": "python",
   "name": "python3"
  },
  "language_info": {
   "codemirror_mode": {
    "name": "ipython",
    "version": 3
   },
   "file_extension": ".py",
   "mimetype": "text/x-python",
   "name": "python",
   "nbconvert_exporter": "python",
   "pygments_lexer": "ipython3",
   "version": "3.11.5"
  }
 },
 "nbformat": 4,
 "nbformat_minor": 5
}
